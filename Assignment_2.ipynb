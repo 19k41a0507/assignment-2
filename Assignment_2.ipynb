{
  "nbformat": 4,
  "nbformat_minor": 0,
  "metadata": {
    "colab": {
      "name": "Assignment 2",
      "provenance": [],
      "collapsed_sections": [],
      "authorship_tag": "ABX9TyM0diAOVW16JflnzOfamwGH",
      "include_colab_link": true
    },
    "kernelspec": {
      "name": "python3",
      "display_name": "Python 3"
    }
  },
  "cells": [
    {
      "cell_type": "markdown",
      "metadata": {
        "id": "view-in-github",
        "colab_type": "text"
      },
      "source": [
        "<a href=\"https://colab.research.google.com/github/19k41a0507/assignment-2/blob/master/Assignment_2.ipynb\" target=\"_parent\"><img src=\"https://colab.research.google.com/assets/colab-badge.svg\" alt=\"Open In Colab\"/></a>"
      ]
    },
    {
      "cell_type": "code",
      "metadata": {
        "id": "fHerLCe3HHar",
        "colab_type": "code",
        "colab": {
          "base_uri": "https://localhost:8080/",
          "height": 50
        },
        "outputId": "4be38c3e-799f-40d7-d683-353fc835979b"
      },
      "source": [
        "#1 Develop code for below scenario\n",
        "year = int(input(\"Enter year\"))\n",
        "if year%12==0:\n",
        "  print(\"monkey\")\n",
        "elif year%12==1:\n",
        "    print(\"rooster\")\n",
        "elif year%12==2:\n",
        "      print(\"dog\")\n",
        "elif year%12==3:\n",
        "      print(\"pig\")\n",
        "elif year%12==4:\n",
        "      print(\"rat\")\n",
        "elif year%12==5:\n",
        "      print(\"ox\")\n",
        "elif year%12==6:\n",
        "      print(\"tiger\")\n",
        "elif year%12==7:\n",
        "      print(\"rabbit\")\n",
        "elif year%12==8:\n",
        "      print(\"dragon\")\n",
        "elif year%12==9:\n",
        "      print(\"snake\")\n",
        "elif year%12==10:\n",
        "      print(\"horse\")\n",
        "else:\n",
        "    print(\"sheep\")"
      ],
      "execution_count": null,
      "outputs": [
        {
          "output_type": "stream",
          "text": [
            "Enter year5\n",
            "ox\n"
          ],
          "name": "stdout"
        }
      ]
    },
    {
      "cell_type": "code",
      "metadata": {
        "id": "AL-sC6tqdtAV",
        "colab_type": "code",
        "colab": {
          "base_uri": "https://localhost:8080/",
          "height": 67
        },
        "outputId": "38886916-b57a-4590-de1b-a6ab3064e3dc"
      },
      "source": [
        "# 2.The charge calculated as per rates given below\n",
        "km=int(input(\"Distance to be travel: \"))\n",
        "kg=int(input(\"Weight of the goods: \"))\n",
        "if km>=500:\n",
        "  if kg>=100 :\n",
        "    amt=km*5\n",
        "  elif 10<=kg<100:\n",
        "    amt=km*6\n",
        "  else: \n",
        "    amt=km*7\n",
        "else:\n",
        "   if  kg>=100:\n",
        "     amt=km*8\n",
        "   else:\n",
        "     amt=km*5\n",
        "print(f'Amount to be charged: {amt}/-')       "
      ],
      "execution_count": null,
      "outputs": [
        {
          "output_type": "stream",
          "text": [
            "Distance to be travel: 520\n",
            "Weight of the goods: 50\n",
            "Amount to be charged: 3120/-\n"
          ],
          "name": "stdout"
        }
      ]
    },
    {
      "cell_type": "code",
      "metadata": {
        "id": "-oo9lKkfhEbe",
        "colab_type": "code",
        "colab": {
          "base_uri": "https://localhost:8080/",
          "height": 67
        },
        "outputId": "726fbc78-3d8e-48e6-982e-aabab28c4594"
      },
      "source": [
        "#3.mention the ticket rates in theater\n",
        "seat=input(\"Types of seats:\")\n",
        "mode=input(\"Payment mode:\")\n",
        "if seat==\"stalls\":\n",
        "    if mode==\"cash\":\n",
        "      A=625*90/100\n",
        "    else:\n",
        "      A=625*95/100\n",
        "elif seat==\"circle\":\n",
        "    if mode==\"cash\":\n",
        "      A=750*90/100\n",
        "    else:\n",
        "      A=750*95/100\n",
        "elif seat==\"upperclass\":\n",
        "    if mode==\"cash\":\n",
        "      A=850*90/100\n",
        "    else:\n",
        "      A=850*95/100\n",
        "else:\n",
        "    if mode==\"cash\":\n",
        "      A=1000*90/100\n",
        "    else:\n",
        "      A=1000*95/100\n",
        "print(f'Cost of ticket:{A}')"
      ],
      "execution_count": null,
      "outputs": [
        {
          "output_type": "stream",
          "text": [
            "Types of seats:circle\n",
            "Payment mode:cash\n",
            "Cost of ticket:675.0\n"
          ],
          "name": "stdout"
        }
      ]
    },
    {
      "cell_type": "code",
      "metadata": {
        "id": "AyGxpdPcmGWX",
        "colab_type": "code",
        "colab": {}
      },
      "source": [
        "#4.calculate energy requried\n",
        "M=float(input('Enter amount of water in kg = '))\n",
        "initialtemp=float(input('Enter initial temperature of water = '))\n",
        "finaltemp=float(input('Enter final temperature of water = '))\n",
        "Q = M * (finaltemp - initialtemp) * 4184\n",
        "print(f'Energy needed to heat water = {Q} joules')"
      ],
      "execution_count": null,
      "outputs": []
    },
    {
      "cell_type": "code",
      "metadata": {
        "id": "x733F6pinjBB",
        "colab_type": "code",
        "colab": {
          "base_uri": "https://localhost:8080/",
          "height": 50
        },
        "outputId": "5f6c11f8-fad6-4f39-e47b-d345bdd3919f"
      },
      "source": [
        "#5.Develop a program that prompts user to enter month and print\n",
        "M=input(\"Enter month:\")\n",
        "if M == \"December\"or M==\"January\"or M==\"February\":\n",
        "   print(\"Winter\")\n",
        "elif M==\"March\"or M==\"April\"or M==\"May\":\n",
        "   print(\"Spring\")\n",
        "elif M==\"June\"or M==\"July\"or M==\"August\": \n",
        "   print(\"Summer\")     \n",
        "else: \n",
        "   print(\"Autumn\")   "
      ],
      "execution_count": null,
      "outputs": [
        {
          "output_type": "stream",
          "text": [
            "Enter month:December\n",
            "Winter\n"
          ],
          "name": "stdout"
        }
      ]
    },
    {
      "cell_type": "code",
      "metadata": {
        "id": "S6Y91i4Urgxc",
        "colab_type": "code",
        "colab": {
          "base_uri": "https://localhost:8080/",
          "height": 84
        },
        "outputId": "6d44afce-973c-40df-8570-a32138335d51"
      },
      "source": [
        "#6.computing body mass index\n",
        "Weight=int(input(\"Enter weight in pounds:\")) \n",
        "height=int(input(\"Enter height in inches:\"))\n",
        "a=float(0.45359237*Weight)\n",
        "b=float(0.0254*height)\n",
        "BMI=float(a/b**2)\n",
        "print(BMI)\n",
        "if (BMI<18.5):\n",
        "  print(\"Under weight\")\n",
        "elif (BMI>18.5 and BMI<25.0):\n",
        "  print(\"Normal\")\n",
        "elif (BMI>25.0 and BMI<30.0):\n",
        "  print(\"Overweight\") \n",
        "else:\n",
        "  print(\"Obesity\")"
      ],
      "execution_count": null,
      "outputs": [
        {
          "output_type": "stream",
          "text": [
            "Enter weight in pounds:50\n",
            "Enter height in inches:5\n",
            "1406.1391592783184\n",
            "Obesity\n"
          ],
          "name": "stdout"
        }
      ]
    },
    {
      "cell_type": "code",
      "metadata": {
        "id": "EEBAcm7ZtAy5",
        "colab_type": "code",
        "colab": {
          "base_uri": "https://localhost:8080/",
          "height": 50
        },
        "outputId": "af36ae7d-fe2b-49bc-a60f-a5dbfacc0f31"
      },
      "source": [
        "#7.caiculate sum between 100 and 1000\n",
        "integer=int(input(\"Enter integer between 100 and 1000:\" ))\n",
        "sum=0\n",
        "while integer>0:\n",
        "  i=integer%10\n",
        "  sum=sum+i\n",
        "  integer=int(integer/10)\n",
        "print(sum)"
      ],
      "execution_count": null,
      "outputs": [
        {
          "output_type": "stream",
          "text": [
            "Enter integer between 100 and 1000:750\n",
            "12\n"
          ],
          "name": "stdout"
        }
      ]
    },
    {
      "cell_type": "code",
      "metadata": {
        "id": "vhevBr6wtljz",
        "colab_type": "code",
        "colab": {
          "base_uri": "https://localhost:8080/",
          "height": 54
        },
        "outputId": "8a214b06-0860-4dee-cbcc-7004415cede1"
      },
      "source": [
        "#8.print all palindrome numbers between 1 to 1000\n",
        "for x in range(1,1001):\n",
        "  sum=0\n",
        "  temp=x\n",
        "  while x>0:\n",
        "       r=x%10\n",
        "       sum=sum*10+r\n",
        "       x=x//10\n",
        "  if temp==sum:\n",
        "       print(temp,end=\" \")"
      ],
      "execution_count": null,
      "outputs": [
        {
          "output_type": "stream",
          "text": [
            "1 2 3 4 5 6 7 8 9 11 22 33 44 55 66 77 88 99 101 111 121 131 141 151 161 171 181 191 202 212 222 232 242 252 262 272 282 292 303 313 323 333 343 353 363 373 383 393 404 414 424 434 444 454 464 474 484 494 505 515 525 535 545 555 565 575 585 595 606 616 626 636 646 656 666 676 686 696 707 717 727 737 747 757 767 777 787 797 808 818 828 838 848 858 868 878 888 898 909 919 929 939 949 959 969 979 989 999 "
          ],
          "name": "stdout"
        }
      ]
    },
    {
      "cell_type": "code",
      "metadata": {
        "id": "kqylF66mtl5V",
        "colab_type": "code",
        "colab": {
          "base_uri": "https://localhost:8080/",
          "height": 101
        },
        "outputId": "45ce5d3f-96e4-4275-d881-df16f852031e"
      },
      "source": [
        "#9.print all armstrong numbers between 1 to 1000\n",
        "for x in range(1,1001):\n",
        "    sum=0\n",
        "    temp=x\n",
        "    while x>0:\n",
        "      n=x%10\n",
        "      sum+=n*n*n\n",
        "      x=x//10\n",
        "    if sum==temp:\n",
        "      print(temp)"
      ],
      "execution_count": null,
      "outputs": [
        {
          "output_type": "stream",
          "text": [
            "1\n",
            "153\n",
            "370\n",
            "371\n",
            "407\n"
          ],
          "name": "stdout"
        }
      ]
    },
    {
      "cell_type": "code",
      "metadata": {
        "id": "u3tqEx73tmMQ",
        "colab_type": "code",
        "colab": {
          "base_uri": "https://localhost:8080/",
          "height": 806
        },
        "outputId": "12c5fe05-8463-471f-9a70-cc684eeff75d"
      },
      "source": [
        "#10.multiple of 3 print fizz,multiple of 5 print buzz,for both print fizz buzz\n",
        "for i in range(1,101):\n",
        "    if i%3==0 and i%5==0:\n",
        "       print(\"fizz buzz\")\n",
        "    elif i % 3==0:\n",
        "       print(\"Fizz\") \n",
        "    elif i % 5==0:\n",
        "       print(\"Buzz\")\n",
        "    else:\n",
        "       print(i,end=\" \")"
      ],
      "execution_count": null,
      "outputs": [
        {
          "output_type": "stream",
          "text": [
            "1 2 Fizz\n",
            "4 Buzz\n",
            "Fizz\n",
            "7 8 Fizz\n",
            "Buzz\n",
            "11 Fizz\n",
            "13 14 fizz buzz\n",
            "16 17 Fizz\n",
            "19 Buzz\n",
            "Fizz\n",
            "22 23 Fizz\n",
            "Buzz\n",
            "26 Fizz\n",
            "28 29 fizz buzz\n",
            "31 32 Fizz\n",
            "34 Buzz\n",
            "Fizz\n",
            "37 38 Fizz\n",
            "Buzz\n",
            "41 Fizz\n",
            "43 44 fizz buzz\n",
            "46 47 Fizz\n",
            "49 Buzz\n",
            "Fizz\n",
            "52 53 Fizz\n",
            "Buzz\n",
            "56 Fizz\n",
            "58 59 fizz buzz\n",
            "61 62 Fizz\n",
            "64 Buzz\n",
            "Fizz\n",
            "67 68 Fizz\n",
            "Buzz\n",
            "71 Fizz\n",
            "73 74 fizz buzz\n",
            "76 77 Fizz\n",
            "79 Buzz\n",
            "Fizz\n",
            "82 83 Fizz\n",
            "Buzz\n",
            "86 Fizz\n",
            "88 89 fizz buzz\n",
            "91 92 Fizz\n",
            "94 Buzz\n",
            "Fizz\n",
            "97 98 Fizz\n",
            "Buzz\n"
          ],
          "name": "stdout"
        }
      ]
    },
    {
      "cell_type": "code",
      "metadata": {
        "id": "sF2fhL27tmct",
        "colab_type": "code",
        "colab": {
          "base_uri": "https://localhost:8080/",
          "height": 84
        },
        "outputId": "4e4c4515-289a-449a-f203-1a4e853392fc"
      },
      "source": [
        "#11.number of steps requried\n",
        "H=int(input(\"Enter the height of well:\"))\n",
        "U=int(input(\"Enter steps  climbed up in meters:\"))\n",
        "D=int(input(\"Enter slips down:\"))\n",
        "N=((H-U)+(U-D))//(U-D)\n",
        "print(N+1)"
      ],
      "execution_count": null,
      "outputs": [
        {
          "output_type": "stream",
          "text": [
            "Enter the height of well:200\n",
            "Enter steps  climbed up in meters:50\n",
            "Enter slips down:1\n",
            "5\n"
          ],
          "name": "stdout"
        }
      ]
    }
  ]
}